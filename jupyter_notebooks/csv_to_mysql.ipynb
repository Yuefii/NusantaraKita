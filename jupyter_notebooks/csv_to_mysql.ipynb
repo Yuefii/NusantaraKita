{
 "cells": [
  {
   "cell_type": "code",
   "execution_count": 12,
   "id": "79469971-2836-4d76-9ea3-135828d0561a",
   "metadata": {},
   "outputs": [
    {
     "data": {
      "text/plain": [
       "True"
      ]
     },
     "execution_count": 12,
     "metadata": {},
     "output_type": "execute_result"
    }
   ],
   "source": [
    "import os\n",
    "import pandas as pd\n",
    "import mysql.connector\n",
    "from dotenv import load_dotenv\n",
    "from sqlalchemy import create_engine\n",
    "\n",
    "load_dotenv()"
   ]
  },
  {
   "cell_type": "code",
   "execution_count": 13,
   "id": "af0344d1-6a1f-4cca-b147-5355cd06afcb",
   "metadata": {},
   "outputs": [
    {
     "data": {
      "text/html": [
       "<div>\n",
       "<style scoped>\n",
       "    .dataframe tbody tr th:only-of-type {\n",
       "        vertical-align: middle;\n",
       "    }\n",
       "\n",
       "    .dataframe tbody tr th {\n",
       "        vertical-align: top;\n",
       "    }\n",
       "\n",
       "    .dataframe thead th {\n",
       "        text-align: right;\n",
       "    }\n",
       "</style>\n",
       "<table border=\"1\" class=\"dataframe\">\n",
       "  <thead>\n",
       "    <tr style=\"text-align: right;\">\n",
       "      <th></th>\n",
       "      <th>code</th>\n",
       "      <th>name</th>\n",
       "    </tr>\n",
       "  </thead>\n",
       "  <tbody>\n",
       "    <tr>\n",
       "      <th>0</th>\n",
       "      <td>11</td>\n",
       "      <td>ACEH</td>\n",
       "    </tr>\n",
       "    <tr>\n",
       "      <th>1</th>\n",
       "      <td>12</td>\n",
       "      <td>SUMATERA UTARA</td>\n",
       "    </tr>\n",
       "    <tr>\n",
       "      <th>2</th>\n",
       "      <td>13</td>\n",
       "      <td>SUMATERA BARAT</td>\n",
       "    </tr>\n",
       "    <tr>\n",
       "      <th>3</th>\n",
       "      <td>14</td>\n",
       "      <td>RIAU</td>\n",
       "    </tr>\n",
       "    <tr>\n",
       "      <th>4</th>\n",
       "      <td>15</td>\n",
       "      <td>JAMBI</td>\n",
       "    </tr>\n",
       "  </tbody>\n",
       "</table>\n",
       "</div>"
      ],
      "text/plain": [
       "   code            name\n",
       "0    11            ACEH\n",
       "1    12  SUMATERA UTARA\n",
       "2    13  SUMATERA BARAT\n",
       "3    14            RIAU\n",
       "4    15           JAMBI"
      ]
     },
     "execution_count": 13,
     "metadata": {},
     "output_type": "execute_result"
    }
   ],
   "source": [
    "provinces = pd.read_csv(\"../dataset/provinces.csv\")\n",
    "provinces.head()"
   ]
  },
  {
   "cell_type": "code",
   "execution_count": 14,
   "id": "cc3904da-1b25-4ebf-b8f3-e0b37e314eb3",
   "metadata": {},
   "outputs": [
    {
     "data": {
      "text/html": [
       "<div>\n",
       "<style scoped>\n",
       "    .dataframe tbody tr th:only-of-type {\n",
       "        vertical-align: middle;\n",
       "    }\n",
       "\n",
       "    .dataframe tbody tr th {\n",
       "        vertical-align: top;\n",
       "    }\n",
       "\n",
       "    .dataframe thead th {\n",
       "        text-align: right;\n",
       "    }\n",
       "</style>\n",
       "<table border=\"1\" class=\"dataframe\">\n",
       "  <thead>\n",
       "    <tr style=\"text-align: right;\">\n",
       "      <th></th>\n",
       "      <th>code</th>\n",
       "      <th>province_code</th>\n",
       "      <th>name</th>\n",
       "    </tr>\n",
       "  </thead>\n",
       "  <tbody>\n",
       "    <tr>\n",
       "      <th>0</th>\n",
       "      <td>11.01</td>\n",
       "      <td>11</td>\n",
       "      <td>KABUPATEN ACEH SELATAN</td>\n",
       "    </tr>\n",
       "    <tr>\n",
       "      <th>1</th>\n",
       "      <td>11.02</td>\n",
       "      <td>11</td>\n",
       "      <td>KABUPATEN ACEH TENGGARA</td>\n",
       "    </tr>\n",
       "    <tr>\n",
       "      <th>2</th>\n",
       "      <td>11.03</td>\n",
       "      <td>11</td>\n",
       "      <td>KABUPATEN ACEH TIMUR</td>\n",
       "    </tr>\n",
       "    <tr>\n",
       "      <th>3</th>\n",
       "      <td>11.04</td>\n",
       "      <td>11</td>\n",
       "      <td>KABUPATEN ACEH TENGAH</td>\n",
       "    </tr>\n",
       "    <tr>\n",
       "      <th>4</th>\n",
       "      <td>11.05</td>\n",
       "      <td>11</td>\n",
       "      <td>KABUPATEN ACEH BARAT</td>\n",
       "    </tr>\n",
       "  </tbody>\n",
       "</table>\n",
       "</div>"
      ],
      "text/plain": [
       "    code  province_code                     name\n",
       "0  11.01             11   KABUPATEN ACEH SELATAN\n",
       "1  11.02             11  KABUPATEN ACEH TENGGARA\n",
       "2  11.03             11     KABUPATEN ACEH TIMUR\n",
       "3  11.04             11    KABUPATEN ACEH TENGAH\n",
       "4  11.05             11     KABUPATEN ACEH BARAT"
      ]
     },
     "execution_count": 14,
     "metadata": {},
     "output_type": "execute_result"
    }
   ],
   "source": [
    "regencies = pd.read_csv(\"../dataset/regencies.csv\")\n",
    "regencies.head()"
   ]
  },
  {
   "cell_type": "code",
   "execution_count": 15,
   "id": "d33643ff-dfca-428c-9467-dc1f13022558",
   "metadata": {},
   "outputs": [
    {
     "data": {
      "text/html": [
       "<div>\n",
       "<style scoped>\n",
       "    .dataframe tbody tr th:only-of-type {\n",
       "        vertical-align: middle;\n",
       "    }\n",
       "\n",
       "    .dataframe tbody tr th {\n",
       "        vertical-align: top;\n",
       "    }\n",
       "\n",
       "    .dataframe thead th {\n",
       "        text-align: right;\n",
       "    }\n",
       "</style>\n",
       "<table border=\"1\" class=\"dataframe\">\n",
       "  <thead>\n",
       "    <tr style=\"text-align: right;\">\n",
       "      <th></th>\n",
       "      <th>code</th>\n",
       "      <th>regency_code</th>\n",
       "      <th>name</th>\n",
       "    </tr>\n",
       "  </thead>\n",
       "  <tbody>\n",
       "    <tr>\n",
       "      <th>0</th>\n",
       "      <td>11.01.01</td>\n",
       "      <td>11.01</td>\n",
       "      <td>Bakongan</td>\n",
       "    </tr>\n",
       "    <tr>\n",
       "      <th>1</th>\n",
       "      <td>11.01.02</td>\n",
       "      <td>11.01</td>\n",
       "      <td>Kluet Utara</td>\n",
       "    </tr>\n",
       "    <tr>\n",
       "      <th>2</th>\n",
       "      <td>11.01.03</td>\n",
       "      <td>11.01</td>\n",
       "      <td>Kluet Selatan</td>\n",
       "    </tr>\n",
       "    <tr>\n",
       "      <th>3</th>\n",
       "      <td>11.01.04</td>\n",
       "      <td>11.01</td>\n",
       "      <td>Labuhanhaji</td>\n",
       "    </tr>\n",
       "    <tr>\n",
       "      <th>4</th>\n",
       "      <td>11.01.05</td>\n",
       "      <td>11.01</td>\n",
       "      <td>Meukek</td>\n",
       "    </tr>\n",
       "  </tbody>\n",
       "</table>\n",
       "</div>"
      ],
      "text/plain": [
       "       code  regency_code           name\n",
       "0  11.01.01         11.01       Bakongan\n",
       "1  11.01.02         11.01    Kluet Utara\n",
       "2  11.01.03         11.01  Kluet Selatan\n",
       "3  11.01.04         11.01    Labuhanhaji\n",
       "4  11.01.05         11.01         Meukek"
      ]
     },
     "execution_count": 15,
     "metadata": {},
     "output_type": "execute_result"
    }
   ],
   "source": [
    "districts = pd.read_csv(\"../dataset/districts.csv\")\n",
    "districts.head()"
   ]
  },
  {
   "cell_type": "code",
   "execution_count": 16,
   "id": "16a13cb4-de70-45d8-bade-18f028c274d4",
   "metadata": {},
   "outputs": [
    {
     "data": {
      "text/html": [
       "<div>\n",
       "<style scoped>\n",
       "    .dataframe tbody tr th:only-of-type {\n",
       "        vertical-align: middle;\n",
       "    }\n",
       "\n",
       "    .dataframe tbody tr th {\n",
       "        vertical-align: top;\n",
       "    }\n",
       "\n",
       "    .dataframe thead th {\n",
       "        text-align: right;\n",
       "    }\n",
       "</style>\n",
       "<table border=\"1\" class=\"dataframe\">\n",
       "  <thead>\n",
       "    <tr style=\"text-align: right;\">\n",
       "      <th></th>\n",
       "      <th>code</th>\n",
       "      <th>district_code</th>\n",
       "      <th>name</th>\n",
       "    </tr>\n",
       "  </thead>\n",
       "  <tbody>\n",
       "    <tr>\n",
       "      <th>0</th>\n",
       "      <td>11.01.01.2001</td>\n",
       "      <td>11.01.01</td>\n",
       "      <td>Keude Bakongan</td>\n",
       "    </tr>\n",
       "    <tr>\n",
       "      <th>1</th>\n",
       "      <td>11.01.01.2002</td>\n",
       "      <td>11.01.01</td>\n",
       "      <td>Ujong Mangki</td>\n",
       "    </tr>\n",
       "    <tr>\n",
       "      <th>2</th>\n",
       "      <td>11.01.01.2003</td>\n",
       "      <td>11.01.01</td>\n",
       "      <td>Ujong Padang</td>\n",
       "    </tr>\n",
       "    <tr>\n",
       "      <th>3</th>\n",
       "      <td>11.01.01.2004</td>\n",
       "      <td>11.01.01</td>\n",
       "      <td>Gampong Drien</td>\n",
       "    </tr>\n",
       "    <tr>\n",
       "      <th>4</th>\n",
       "      <td>11.01.01.2015</td>\n",
       "      <td>11.01.01</td>\n",
       "      <td>Darul Ikhsan</td>\n",
       "    </tr>\n",
       "  </tbody>\n",
       "</table>\n",
       "</div>"
      ],
      "text/plain": [
       "            code district_code            name\n",
       "0  11.01.01.2001      11.01.01  Keude Bakongan\n",
       "1  11.01.01.2002      11.01.01    Ujong Mangki\n",
       "2  11.01.01.2003      11.01.01    Ujong Padang\n",
       "3  11.01.01.2004      11.01.01   Gampong Drien\n",
       "4  11.01.01.2015      11.01.01    Darul Ikhsan"
      ]
     },
     "execution_count": 16,
     "metadata": {},
     "output_type": "execute_result"
    }
   ],
   "source": [
    "villages = pd.read_csv(\"../dataset/villages.csv\")\n",
    "villages.head()"
   ]
  },
  {
   "cell_type": "code",
   "execution_count": 17,
   "id": "e67a8b62-f164-414a-bdfd-727a99f59b0f",
   "metadata": {},
   "outputs": [
    {
     "name": "stdout",
     "output_type": "stream",
     "text": [
      "Berhasil terhubung ke database: nusantara-kita\n"
     ]
    }
   ],
   "source": [
    "conn = mysql.connector.connect(\n",
    "    host= os.getenv(\"MYSQL_HOST\"),\n",
    "    user= os.getenv(\"MYSQL_USER\"),\n",
    "    password= os.getenv(\"MYSQL_PASSWORD\"),\n",
    "    database= os.getenv(\"MYSQL_DATABASE\")\n",
    ")\n",
    "\n",
    "cursor = conn.cursor()\n",
    "cursor.execute(\"SELECT DATABASE()\")\n",
    "db_name = cursor.fetchone()[0]\n",
    "print(f\"Berhasil terhubung ke database: {db_name}\")"
   ]
  },
  {
   "cell_type": "code",
   "execution_count": 18,
   "id": "7c41ff24-94bb-4430-a1ef-d0eecd8682b3",
   "metadata": {},
   "outputs": [
    {
     "name": "stdout",
     "output_type": "stream",
     "text": [
      "\n",
      "Struktur tabel untuk provinces:\n",
      "('code', 'varchar(2)', 'NO', 'PRI', None, '')\n",
      "('name', 'varchar(255)', 'NO', '', None, '')\n",
      "\n",
      "Struktur tabel untuk regencies:\n",
      "('code', 'varchar(5)', 'NO', 'PRI', None, '')\n",
      "('province_code', 'varchar(2)', 'YES', 'MUL', None, '')\n",
      "('name', 'varchar(255)', 'NO', '', None, '')\n",
      "\n",
      "Struktur tabel untuk districts:\n",
      "('code', 'varchar(8)', 'NO', 'PRI', None, '')\n",
      "('regency_code', 'varchar(5)', 'YES', 'MUL', None, '')\n",
      "('name', 'varchar(255)', 'NO', '', None, '')\n",
      "\n",
      "Struktur tabel untuk villages:\n",
      "('code', 'varchar(13)', 'NO', 'PRI', None, '')\n",
      "('district_code', 'varchar(8)', 'YES', 'MUL', None, '')\n",
      "('name', 'varchar(255)', 'NO', '', None, '')\n"
     ]
    }
   ],
   "source": [
    "cursor.execute(\"\"\"\n",
    "CREATE TABLE IF NOT EXISTS provinces (\n",
    "    code VARCHAR(2) PRIMARY KEY,\n",
    "    name VARCHAR(255) NOT NULL\n",
    ")\n",
    "\"\"\")\n",
    "\n",
    "cursor.execute(\"\"\"\n",
    "CREATE TABLE IF NOT EXISTS regencies (\n",
    "    code VARCHAR(5) PRIMARY KEY,\n",
    "    province_code VARCHAR(2),\n",
    "    name VARCHAR(255) NOT NULL,\n",
    "    FOREIGN KEY (province_code) REFERENCES provinces(code)\n",
    ")\n",
    "\"\"\")\n",
    "\n",
    "cursor.execute(\"\"\"\n",
    "CREATE TABLE IF NOT EXISTS districts (\n",
    "    code VARCHAR(8) PRIMARY KEY,\n",
    "    regency_code VARCHAR(5),\n",
    "    name VARCHAR(255) NOT NULL,\n",
    "    FOREIGN KEY (regency_code) REFERENCES regencies(code)\n",
    ")\n",
    "\"\"\")\n",
    "\n",
    "cursor.execute(\"\"\"\n",
    "CREATE TABLE IF NOT EXISTS villages (\n",
    "    code VARCHAR(13) PRIMARY KEY,\n",
    "    district_code VARCHAR(8),\n",
    "    name VARCHAR(255) NOT NULL,\n",
    "    FOREIGN KEY (district_code) REFERENCES districts(code)\n",
    ")\n",
    "\"\"\")\n",
    "\n",
    "conn.commit()\n",
    "\n",
    "def show_query_results(cursor, query):\n",
    "    cursor.execute(query)\n",
    "    rows = cursor.fetchall()\n",
    "    for row in rows:\n",
    "        print(row)\n",
    "\n",
    "table_queries = [\n",
    "        \"DESCRIBE provinces\",\n",
    "        \"DESCRIBE regencies\",\n",
    "        \"DESCRIBE districts\",\n",
    "        \"DESCRIBE villages\"\n",
    "    ]\n",
    "    \n",
    "for query in table_queries:\n",
    "    print(f\"\\nStruktur tabel untuk {query.split()[1]}:\")\n",
    "    show_query_results(cursor, query)"
   ]
  },
  {
   "cell_type": "code",
   "execution_count": 19,
   "id": "3e85775e-52c7-4db5-807f-7648a7ea0c36",
   "metadata": {},
   "outputs": [
    {
     "name": "stdout",
     "output_type": "stream",
     "text": [
      "Data berhasil di-insert ke tabel provinces: 38 baris\n",
      "Data berhasil di-insert ke tabel regencies: 514 baris\n",
      "Data berhasil di-insert ke tabel districts: 7277 baris\n",
      "Data berhasil di-insert ke tabel villages: 83763 baris\n"
     ]
    }
   ],
   "source": [
    "def insert_data(table_name, data_frame, cursor):\n",
    "    rows_inserted = 0\n",
    "    for index, row in data_frame.iterrows():\n",
    "        columns = \", \".join(data_frame.columns)\n",
    "        placeholders = \", \".join([\"%s\"] * len(row))\n",
    "        sql = f\"INSERT INTO {table_name} ({columns}) VALUES ({placeholders})\"\n",
    "        cursor.execute(sql, tuple(row))\n",
    "        rows_inserted += 1\n",
    "    print(f\"Data berhasil di-insert ke tabel {table_name}: {rows_inserted} baris\")\n",
    "\n",
    "insert_data(\"provinces\", provinces, cursor)\n",
    "insert_data(\"regencies\", regencies, cursor)\n",
    "insert_data(\"districts\", districts, cursor)\n",
    "insert_data(\"villages\", villages, cursor)\n",
    "\n",
    "conn.commit()"
   ]
  },
  {
   "cell_type": "code",
   "execution_count": 20,
   "id": "2d98c36d-419a-4b3e-a03b-44861e1b01d0",
   "metadata": {},
   "outputs": [
    {
     "data": {
      "text/html": [
       "<div>\n",
       "<style scoped>\n",
       "    .dataframe tbody tr th:only-of-type {\n",
       "        vertical-align: middle;\n",
       "    }\n",
       "\n",
       "    .dataframe tbody tr th {\n",
       "        vertical-align: top;\n",
       "    }\n",
       "\n",
       "    .dataframe thead th {\n",
       "        text-align: right;\n",
       "    }\n",
       "</style>\n",
       "<table border=\"1\" class=\"dataframe\">\n",
       "  <thead>\n",
       "    <tr style=\"text-align: right;\">\n",
       "      <th></th>\n",
       "      <th>code</th>\n",
       "      <th>name</th>\n",
       "    </tr>\n",
       "  </thead>\n",
       "  <tbody>\n",
       "    <tr>\n",
       "      <th>0</th>\n",
       "      <td>11</td>\n",
       "      <td>ACEH</td>\n",
       "    </tr>\n",
       "    <tr>\n",
       "      <th>1</th>\n",
       "      <td>12</td>\n",
       "      <td>SUMATERA UTARA</td>\n",
       "    </tr>\n",
       "    <tr>\n",
       "      <th>2</th>\n",
       "      <td>13</td>\n",
       "      <td>SUMATERA BARAT</td>\n",
       "    </tr>\n",
       "    <tr>\n",
       "      <th>3</th>\n",
       "      <td>14</td>\n",
       "      <td>RIAU</td>\n",
       "    </tr>\n",
       "    <tr>\n",
       "      <th>4</th>\n",
       "      <td>15</td>\n",
       "      <td>JAMBI</td>\n",
       "    </tr>\n",
       "  </tbody>\n",
       "</table>\n",
       "</div>"
      ],
      "text/plain": [
       "  code            name\n",
       "0   11            ACEH\n",
       "1   12  SUMATERA UTARA\n",
       "2   13  SUMATERA BARAT\n",
       "3   14            RIAU\n",
       "4   15           JAMBI"
      ]
     },
     "execution_count": 20,
     "metadata": {},
     "output_type": "execute_result"
    }
   ],
   "source": [
    "DATABASE_URI = os.getenv(\"DATABASE_URL\")\n",
    "\n",
    "engine = create_engine(DATABASE_URI)\n",
    "\n",
    "def read_from_mysql(table_name):\n",
    "    query = f\"SELECT * FROM {table_name}\"\n",
    "    return pd.read_sql(query, engine)\n",
    "\n",
    "mysql_provinces = read_from_mysql(\"provinces\")\n",
    "mysql_provinces.head()"
   ]
  },
  {
   "cell_type": "code",
   "execution_count": 21,
   "id": "e171a519-e384-4d60-9e21-944c0e025542",
   "metadata": {},
   "outputs": [
    {
     "data": {
      "text/html": [
       "<div>\n",
       "<style scoped>\n",
       "    .dataframe tbody tr th:only-of-type {\n",
       "        vertical-align: middle;\n",
       "    }\n",
       "\n",
       "    .dataframe tbody tr th {\n",
       "        vertical-align: top;\n",
       "    }\n",
       "\n",
       "    .dataframe thead th {\n",
       "        text-align: right;\n",
       "    }\n",
       "</style>\n",
       "<table border=\"1\" class=\"dataframe\">\n",
       "  <thead>\n",
       "    <tr style=\"text-align: right;\">\n",
       "      <th></th>\n",
       "      <th>code</th>\n",
       "      <th>province_code</th>\n",
       "      <th>name</th>\n",
       "    </tr>\n",
       "  </thead>\n",
       "  <tbody>\n",
       "    <tr>\n",
       "      <th>0</th>\n",
       "      <td>11.01</td>\n",
       "      <td>11</td>\n",
       "      <td>KABUPATEN ACEH SELATAN</td>\n",
       "    </tr>\n",
       "    <tr>\n",
       "      <th>1</th>\n",
       "      <td>11.02</td>\n",
       "      <td>11</td>\n",
       "      <td>KABUPATEN ACEH TENGGARA</td>\n",
       "    </tr>\n",
       "    <tr>\n",
       "      <th>2</th>\n",
       "      <td>11.03</td>\n",
       "      <td>11</td>\n",
       "      <td>KABUPATEN ACEH TIMUR</td>\n",
       "    </tr>\n",
       "    <tr>\n",
       "      <th>3</th>\n",
       "      <td>11.04</td>\n",
       "      <td>11</td>\n",
       "      <td>KABUPATEN ACEH TENGAH</td>\n",
       "    </tr>\n",
       "    <tr>\n",
       "      <th>4</th>\n",
       "      <td>11.05</td>\n",
       "      <td>11</td>\n",
       "      <td>KABUPATEN ACEH BARAT</td>\n",
       "    </tr>\n",
       "  </tbody>\n",
       "</table>\n",
       "</div>"
      ],
      "text/plain": [
       "    code province_code                     name\n",
       "0  11.01            11   KABUPATEN ACEH SELATAN\n",
       "1  11.02            11  KABUPATEN ACEH TENGGARA\n",
       "2  11.03            11     KABUPATEN ACEH TIMUR\n",
       "3  11.04            11    KABUPATEN ACEH TENGAH\n",
       "4  11.05            11     KABUPATEN ACEH BARAT"
      ]
     },
     "execution_count": 21,
     "metadata": {},
     "output_type": "execute_result"
    }
   ],
   "source": [
    "mysql_regencies = read_from_mysql(\"regencies\")\n",
    "mysql_regencies.head()"
   ]
  },
  {
   "cell_type": "code",
   "execution_count": 22,
   "id": "1474a87f-9e4f-49e5-9ca9-ff7fdb96cd84",
   "metadata": {},
   "outputs": [
    {
     "data": {
      "text/html": [
       "<div>\n",
       "<style scoped>\n",
       "    .dataframe tbody tr th:only-of-type {\n",
       "        vertical-align: middle;\n",
       "    }\n",
       "\n",
       "    .dataframe tbody tr th {\n",
       "        vertical-align: top;\n",
       "    }\n",
       "\n",
       "    .dataframe thead th {\n",
       "        text-align: right;\n",
       "    }\n",
       "</style>\n",
       "<table border=\"1\" class=\"dataframe\">\n",
       "  <thead>\n",
       "    <tr style=\"text-align: right;\">\n",
       "      <th></th>\n",
       "      <th>code</th>\n",
       "      <th>regency_code</th>\n",
       "      <th>name</th>\n",
       "    </tr>\n",
       "  </thead>\n",
       "  <tbody>\n",
       "    <tr>\n",
       "      <th>0</th>\n",
       "      <td>11.01.01</td>\n",
       "      <td>11.01</td>\n",
       "      <td>Bakongan</td>\n",
       "    </tr>\n",
       "    <tr>\n",
       "      <th>1</th>\n",
       "      <td>11.01.02</td>\n",
       "      <td>11.01</td>\n",
       "      <td>Kluet Utara</td>\n",
       "    </tr>\n",
       "    <tr>\n",
       "      <th>2</th>\n",
       "      <td>11.01.03</td>\n",
       "      <td>11.01</td>\n",
       "      <td>Kluet Selatan</td>\n",
       "    </tr>\n",
       "    <tr>\n",
       "      <th>3</th>\n",
       "      <td>11.01.04</td>\n",
       "      <td>11.01</td>\n",
       "      <td>Labuhanhaji</td>\n",
       "    </tr>\n",
       "    <tr>\n",
       "      <th>4</th>\n",
       "      <td>11.01.05</td>\n",
       "      <td>11.01</td>\n",
       "      <td>Meukek</td>\n",
       "    </tr>\n",
       "  </tbody>\n",
       "</table>\n",
       "</div>"
      ],
      "text/plain": [
       "       code regency_code           name\n",
       "0  11.01.01        11.01       Bakongan\n",
       "1  11.01.02        11.01    Kluet Utara\n",
       "2  11.01.03        11.01  Kluet Selatan\n",
       "3  11.01.04        11.01    Labuhanhaji\n",
       "4  11.01.05        11.01         Meukek"
      ]
     },
     "execution_count": 22,
     "metadata": {},
     "output_type": "execute_result"
    }
   ],
   "source": [
    "mysql_districts = read_from_mysql(\"districts\")\n",
    "mysql_districts.head()"
   ]
  },
  {
   "cell_type": "code",
   "execution_count": 23,
   "id": "bc4c4c51-7f9d-4bc9-add1-6c840052042f",
   "metadata": {},
   "outputs": [
    {
     "data": {
      "text/html": [
       "<div>\n",
       "<style scoped>\n",
       "    .dataframe tbody tr th:only-of-type {\n",
       "        vertical-align: middle;\n",
       "    }\n",
       "\n",
       "    .dataframe tbody tr th {\n",
       "        vertical-align: top;\n",
       "    }\n",
       "\n",
       "    .dataframe thead th {\n",
       "        text-align: right;\n",
       "    }\n",
       "</style>\n",
       "<table border=\"1\" class=\"dataframe\">\n",
       "  <thead>\n",
       "    <tr style=\"text-align: right;\">\n",
       "      <th></th>\n",
       "      <th>code</th>\n",
       "      <th>district_code</th>\n",
       "      <th>name</th>\n",
       "    </tr>\n",
       "  </thead>\n",
       "  <tbody>\n",
       "    <tr>\n",
       "      <th>0</th>\n",
       "      <td>11.01.01.2001</td>\n",
       "      <td>11.01.01</td>\n",
       "      <td>Keude Bakongan</td>\n",
       "    </tr>\n",
       "    <tr>\n",
       "      <th>1</th>\n",
       "      <td>11.01.01.2002</td>\n",
       "      <td>11.01.01</td>\n",
       "      <td>Ujong Mangki</td>\n",
       "    </tr>\n",
       "    <tr>\n",
       "      <th>2</th>\n",
       "      <td>11.01.01.2003</td>\n",
       "      <td>11.01.01</td>\n",
       "      <td>Ujong Padang</td>\n",
       "    </tr>\n",
       "    <tr>\n",
       "      <th>3</th>\n",
       "      <td>11.01.01.2004</td>\n",
       "      <td>11.01.01</td>\n",
       "      <td>Gampong Drien</td>\n",
       "    </tr>\n",
       "    <tr>\n",
       "      <th>4</th>\n",
       "      <td>11.01.01.2015</td>\n",
       "      <td>11.01.01</td>\n",
       "      <td>Darul Ikhsan</td>\n",
       "    </tr>\n",
       "  </tbody>\n",
       "</table>\n",
       "</div>"
      ],
      "text/plain": [
       "            code district_code            name\n",
       "0  11.01.01.2001      11.01.01  Keude Bakongan\n",
       "1  11.01.01.2002      11.01.01    Ujong Mangki\n",
       "2  11.01.01.2003      11.01.01    Ujong Padang\n",
       "3  11.01.01.2004      11.01.01   Gampong Drien\n",
       "4  11.01.01.2015      11.01.01    Darul Ikhsan"
      ]
     },
     "execution_count": 23,
     "metadata": {},
     "output_type": "execute_result"
    }
   ],
   "source": [
    "mysql_villages = read_from_mysql(\"villages\")\n",
    "mysql_villages.head()"
   ]
  },
  {
   "cell_type": "code",
   "execution_count": 24,
   "id": "3dd49abf-5c2f-4925-9629-3443763f2024",
   "metadata": {},
   "outputs": [
    {
     "name": "stdout",
     "output_type": "stream",
     "text": [
      "Provinces data match: False\n",
      "Regencies data match: False\n",
      "Districts data match: False\n",
      "Villages data match: True\n"
     ]
    }
   ],
   "source": [
    "def compare_dataframes(df1, df2):\n",
    "    df1 = df1.sort_values(by=list(df1.columns)).reset_index(drop=True)\n",
    "    df2 = df2.sort_values(by=list(df2.columns)).reset_index(drop=True)\n",
    "    return df1.equals(df2)\n",
    "\n",
    "provinces_match = compare_dataframes(provinces, mysql_provinces)\n",
    "regencies_match = compare_dataframes(regencies, mysql_regencies)\n",
    "districts_match = compare_dataframes(districts, mysql_districts)\n",
    "villages_match = compare_dataframes(villages, mysql_villages)\n",
    "\n",
    "print(f\"Provinces data match: {provinces_match}\")\n",
    "print(f\"Regencies data match: {regencies_match}\")\n",
    "print(f\"Districts data match: {districts_match}\")\n",
    "print(f\"Villages data match: {villages_match}\")"
   ]
  },
  {
   "cell_type": "code",
   "execution_count": 25,
   "id": "8b4660e6-be3d-484e-999a-90866143289f",
   "metadata": {},
   "outputs": [
    {
     "name": "stdout",
     "output_type": "stream",
     "text": [
      "DATA CSV\n",
      "code     int64\n",
      "name    object\n",
      "dtype: object\n",
      "DATA MYSQL\n",
      "code    object\n",
      "name    object\n",
      "dtype: object\n"
     ]
    }
   ],
   "source": [
    "print(\"DATA CSV\")\n",
    "print(provinces.dtypes)\n",
    "print(\"DATA MYSQL\")\n",
    "print(mysql_provinces.dtypes)"
   ]
  },
  {
   "cell_type": "code",
   "execution_count": 26,
   "id": "47bcc9e8-0f46-4aa0-8205-7655ffd3c041",
   "metadata": {},
   "outputs": [
    {
     "name": "stdout",
     "output_type": "stream",
     "text": [
      "DATA CSV\n",
      "code             float64\n",
      "province_code      int64\n",
      "name              object\n",
      "dtype: object\n",
      "DATA MYSQL\n",
      "code             object\n",
      "province_code    object\n",
      "name             object\n",
      "dtype: object\n"
     ]
    }
   ],
   "source": [
    "print(\"DATA CSV\")\n",
    "print(regencies.dtypes)\n",
    "print(\"DATA MYSQL\")\n",
    "print(mysql_regencies.dtypes)"
   ]
  },
  {
   "cell_type": "code",
   "execution_count": 27,
   "id": "7283dca0-74fc-4c45-8cf0-9b7de62823d2",
   "metadata": {},
   "outputs": [
    {
     "name": "stdout",
     "output_type": "stream",
     "text": [
      "DATA CSV\n",
      "code             object\n",
      "regency_code    float64\n",
      "name             object\n",
      "dtype: object\n",
      "DATA MYSQL\n",
      "code            object\n",
      "regency_code    object\n",
      "name            object\n",
      "dtype: object\n"
     ]
    }
   ],
   "source": [
    "print(\"DATA CSV\")\n",
    "print(districts.dtypes)\n",
    "print(\"DATA MYSQL\")\n",
    "print(mysql_districts.dtypes)"
   ]
  },
  {
   "cell_type": "code",
   "execution_count": 28,
   "id": "bfd20c53-ac9e-46c4-9d49-9d1bc0b49098",
   "metadata": {},
   "outputs": [
    {
     "name": "stdout",
     "output_type": "stream",
     "text": [
      "DATA CSV\n",
      "code             object\n",
      "district_code    object\n",
      "name             object\n",
      "dtype: object\n",
      "DATA MYSQL\n",
      "code             object\n",
      "district_code    object\n",
      "name             object\n",
      "dtype: object\n"
     ]
    }
   ],
   "source": [
    "print(\"DATA CSV\")\n",
    "print(villages.dtypes)\n",
    "print(\"DATA MYSQL\")\n",
    "print(mysql_villages.dtypes)"
   ]
  },
  {
   "cell_type": "code",
   "execution_count": 29,
   "id": "9cf0cc2b-8e58-40d0-a1a4-438a37d1b539",
   "metadata": {},
   "outputs": [
    {
     "name": "stdout",
     "output_type": "stream",
     "text": [
      "Provinces differences:\n",
      "    code      \n",
      "   self other\n",
      "0    11    11\n",
      "1    12    12\n",
      "2    13    13\n",
      "3    14    14\n",
      "4    15    15\n",
      "5    16    16\n",
      "6    17    17\n",
      "7    18    18\n",
      "8    19    19\n",
      "9    21    21\n",
      "10   31    31\n",
      "11   32    32\n",
      "12   33    33\n",
      "13   34    34\n",
      "14   35    35\n",
      "15   36    36\n",
      "16   51    51\n",
      "17   52    52\n",
      "18   53    53\n",
      "19   61    61\n",
      "20   62    62\n",
      "21   63    63\n",
      "22   64    64\n",
      "23   65    65\n",
      "24   71    71\n",
      "25   72    72\n",
      "26   73    73\n",
      "27   74    74\n",
      "28   75    75\n",
      "29   76    76\n",
      "30   81    81\n",
      "31   82    82\n",
      "32   91    91\n",
      "33   92    92\n",
      "34   93    93\n",
      "35   94    94\n",
      "36   95    95\n",
      "37   96    96 \n",
      "\n",
      "Regencies differences:\n",
      "       code        province_code      \n",
      "      self  other          self other\n",
      "0    11.01  11.01            11    11\n",
      "1    11.02  11.02            11    11\n",
      "2    11.03  11.03            11    11\n",
      "3    11.04  11.04            11    11\n",
      "4    11.05  11.05            11    11\n",
      "..     ...    ...           ...   ...\n",
      "509  96.02  96.02            96    96\n",
      "510  96.03  96.03            96    96\n",
      "511  96.04  96.04            96    96\n",
      "512  96.05  96.05            96    96\n",
      "513  96.71  96.71            96    96\n",
      "\n",
      "[514 rows x 4 columns] \n",
      "\n",
      "Districts differences:\n",
      "      regency_code       \n",
      "             self  other\n",
      "0           11.01  11.01\n",
      "1           11.01  11.01\n",
      "2           11.01  11.01\n",
      "3           11.01  11.01\n",
      "4           11.01  11.01\n",
      "...           ...    ...\n",
      "7272        96.71  96.71\n",
      "7273        96.71  96.71\n",
      "7274        96.71  96.71\n",
      "7275        96.71  96.71\n",
      "7276        96.71  96.71\n",
      "\n",
      "[7277 rows x 2 columns] \n",
      "\n",
      "Villages differences:\n",
      " Empty DataFrame\n",
      "Columns: []\n",
      "Index: [] \n",
      "\n"
     ]
    }
   ],
   "source": [
    "def find_differences(df1, df2):\n",
    "    df1 = df1.sort_values(by=list(df1.columns)).reset_index(drop=True)\n",
    "    df2 = df2.sort_values(by=list(df2.columns)).reset_index(drop=True)\n",
    "    \n",
    "    differences = df1.compare(df2)\n",
    "    return differences\n",
    "\n",
    "provinces_differences = find_differences(provinces, mysql_provinces)\n",
    "regencies_differences = find_differences(regencies, mysql_regencies)\n",
    "districts_differences = find_differences(districts, mysql_districts)\n",
    "villages_differences = find_differences(villages, mysql_villages)\n",
    "\n",
    "print(\"Provinces differences:\\n\", provinces_differences, \"\\n\")\n",
    "print(\"Regencies differences:\\n\", regencies_differences, \"\\n\")\n",
    "print(\"Districts differences:\\n\", districts_differences, \"\\n\")\n",
    "print(\"Villages differences:\\n\", villages_differences, \"\\n\")"
   ]
  },
  {
   "cell_type": "code",
   "execution_count": 30,
   "id": "1e53aed7-604a-4543-b0f4-492f54b72cb6",
   "metadata": {},
   "outputs": [
    {
     "name": "stdout",
     "output_type": "stream",
     "text": [
      "Tipe data columns telah berhasil dikonversi\n"
     ]
    }
   ],
   "source": [
    "provinces[\"code\"] = provinces[\"code\"].astype(str)\n",
    "regencies[\"code\"] = regencies[\"code\"].astype(str)\n",
    "regencies[\"province_code\"] = regencies[\"province_code\"].astype(str)\n",
    "districts[\"code\"] = districts[\"code\"].astype(str)\n",
    "districts[\"regency_code\"] = districts[\"regency_code\"].astype(str)\n",
    "villages[\"code\"] = villages[\"code\"].astype(str)\n",
    "villages[\"district_code\"] = villages[\"district_code\"].astype(str)\n",
    "print(\"Tipe data columns telah berhasil dikonversi\")"
   ]
  }
 ],
 "metadata": {
  "kernelspec": {
   "display_name": "Python 3 (ipykernel)",
   "language": "python",
   "name": "python3"
  },
  "language_info": {
   "codemirror_mode": {
    "name": "ipython",
    "version": 3
   },
   "file_extension": ".py",
   "mimetype": "text/x-python",
   "name": "python",
   "nbconvert_exporter": "python",
   "pygments_lexer": "ipython3",
   "version": "3.12.4"
  }
 },
 "nbformat": 4,
 "nbformat_minor": 5
}
